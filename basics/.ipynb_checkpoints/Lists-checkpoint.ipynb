{
 "cells": [
  {
   "cell_type": "markdown",
   "metadata": {},
   "source": [
    "# Create Lists\n",
    "### Empty, Integer, Mixed, Nested"
   ]
  },
  {
   "cell_type": "code",
   "execution_count": 5,
   "metadata": {},
   "outputs": [],
   "source": [
    "# empty\n",
    "my_list = []\n",
    "\n",
    "# integer\n",
    "my_list = [1, 2, 3]\n",
    "\n",
    "# mixed\n",
    "my_list = [1, \"Hello\", 3.4]\n",
    "\n",
    "#nested\n",
    "my_list = [\"mouse\", [8, 4, 6], ['a']]"
   ]
  },
  {
   "cell_type": "markdown",
   "metadata": {},
   "source": [
    "# Access Elements\n",
    "### Regular, Negative, Nested, Slice"
   ]
  },
  {
   "cell_type": "code",
   "execution_count": 11,
   "metadata": {},
   "outputs": [
    {
     "name": "stdout",
     "output_type": "stream",
     "text": [
      "Regular\n",
      "p\n",
      "o\n",
      "\n",
      "Negative\n",
      "e\n",
      "p\n",
      "\n",
      "Nested\n",
      "5\n",
      "\n",
      "Sliced\n",
      "['o', 'g', 'r']\n",
      "['p', 'r', 'o', 'g']\n",
      "['a', 'm', 'i', 'z']\n",
      "['p', 'r', 'o', 'g', 'r', 'a', 'm', 'i', 'z']\n"
     ]
    }
   ],
   "source": [
    "#Regular\n",
    "my_list = ['p','r','o','b','e']\n",
    "print(\"Regular\")\n",
    "print(my_list[0])\n",
    "print(my_list[2])\n",
    "\n",
    "#Negative\n",
    "print(\"\\nNegative\")\n",
    "my_list = ['p','r','o','b','e']\n",
    "print(my_list[-1])\n",
    "print(my_list[-5])\n",
    "\n",
    "#Nested\n",
    "print(\"\\nNested\")\n",
    "n_list = [\"Happy\", [2,0,1,5]]\n",
    "print(n_list[1][3])\n",
    "\n",
    "#Sliced\n",
    "print(\"\\nSliced\")\n",
    "my_list = ['p','r','o','g','r','a','m','i','z']\n",
    "# elements 3rd to 5th\n",
    "print(my_list[2:5])\n",
    "\n",
    "# elements beginning to 4th\n",
    "print(my_list[:-5])\n",
    "\n",
    "# elements 6th to end\n",
    "print(my_list[5:])\n",
    "\n",
    "# elements beginning to end\n",
    "print(my_list[:])\n",
    "\n"
   ]
  },
  {
   "cell_type": "markdown",
   "metadata": {},
   "source": [
    "# Methods\n",
    "### Change, Append, Input (Specific Location), Combine, Repeat, Remove, Sort, Index"
   ]
  },
  {
   "cell_type": "code",
   "execution_count": 1,
   "metadata": {},
   "outputs": [
    {
     "name": "stdout",
     "output_type": "stream",
     "text": [
      "[1, 4, 6, 8]\n",
      "[1, 3, 5, 7]\n"
     ]
    }
   ],
   "source": [
    "#Change\n",
    "\n",
    "# mistake values\n",
    "odd = [2, 4, 6, 8]\n",
    "\n",
    "# change the 1st item \n",
    "odd[0] = 1 \n",
    "\n",
    "# Output: [1, 4, 6, 8]\n",
    "print(odd)\n",
    "\n",
    "# change 2nd to 4th items\n",
    "odd[1:4] = [3, 5, 7] \n",
    "\n",
    "# Output: [1, 3, 5, 7]\n",
    "print(odd) "
   ]
  },
  {
   "cell_type": "code",
   "execution_count": 2,
   "metadata": {},
   "outputs": [
    {
     "name": "stdout",
     "output_type": "stream",
     "text": [
      "[1, 3, 5, 7]\n",
      "[1, 3, 5, 7, 9, 11, 13]\n"
     ]
    }
   ],
   "source": [
    "#Append/Extend\n",
    "\n",
    "odd = [1, 3, 5]\n",
    "\n",
    "odd.append(7)\n",
    "\n",
    "# Output: [1, 3, 5, 7]\n",
    "print(odd)\n",
    "\n",
    "odd.extend([9, 11, 13])\n",
    "\n",
    "# Output: [1, 3, 5, 7, 9, 11, 13]\n",
    "print(odd)\n"
   ]
  },
  {
   "cell_type": "code",
   "execution_count": 3,
   "metadata": {},
   "outputs": [
    {
     "name": "stdout",
     "output_type": "stream",
     "text": [
      "[1, 3, 9]\n",
      "[1, 3, 5, 7, 9]\n"
     ]
    }
   ],
   "source": [
    "#Insert (Specific Location)\n",
    "\n",
    "odd = [1, 9]\n",
    "odd.insert(1,3)\n",
    "\n",
    "# Output: [1, 3, 9] \n",
    "print(odd)\n",
    "\n",
    "odd[2:2] = [5, 7]\n",
    "\n",
    "# Output: [1, 3, 5, 7, 9]\n",
    "print(odd)\n"
   ]
  },
  {
   "cell_type": "code",
   "execution_count": 4,
   "metadata": {},
   "outputs": [
    {
     "name": "stdout",
     "output_type": "stream",
     "text": [
      "[1, 3, 5, 9, 7, 5]\n"
     ]
    }
   ],
   "source": [
    "#Combine\n",
    "\n",
    "odd = [1, 3, 5]\n",
    "\n",
    "# Output: [1, 3, 5, 9, 7, 5]\n",
    "print(odd + [9, 7, 5])\n"
   ]
  },
  {
   "cell_type": "code",
   "execution_count": 5,
   "metadata": {},
   "outputs": [
    {
     "name": "stdout",
     "output_type": "stream",
     "text": [
      "['re', 're', 're']\n"
     ]
    }
   ],
   "source": [
    "#Repeat\n",
    "\n",
    "#Output: [\"re\", \"re\", \"re\"]\n",
    "print([\"re\"] * 3)\n"
   ]
  },
  {
   "cell_type": "code",
   "execution_count": 6,
   "metadata": {},
   "outputs": [
    {
     "name": "stdout",
     "output_type": "stream",
     "text": [
      "['p', 'r', 'b', 'l', 'e', 'm']\n",
      "['p', 'm']\n",
      "['r', 'o', 'b', 'l', 'e', 'm']\n",
      "o\n",
      "['r', 'b', 'l', 'e', 'm']\n",
      "m\n",
      "['r', 'b', 'l', 'e']\n",
      "[]\n"
     ]
    },
    {
     "data": {
      "text/plain": [
       "['p', 'r', 'm']"
      ]
     },
     "execution_count": 6,
     "metadata": {},
     "output_type": "execute_result"
    }
   ],
   "source": [
    "#Remove\n",
    "\n",
    "my_list = ['p','r','o','b','l','e','m']\n",
    "\n",
    "# delete one item\n",
    "del my_list[2]\n",
    "\n",
    "# Output: ['p', 'r', 'b', 'l', 'e', 'm'] \n",
    "print(my_list)\n",
    "\n",
    "# delete multiple items\n",
    "del my_list[1:5] \n",
    "\n",
    "# Output: ['p', 'm']\n",
    "print(my_list)\n",
    "\n",
    "# delete entire list\n",
    "del my_list \n",
    "\n",
    "\n",
    "my_list = ['p','r','o','b','l','e','m']\n",
    "my_list.remove('p')\n",
    "\n",
    "# Output: ['r', 'o', 'b', 'l', 'e', 'm']\n",
    "print(my_list)\n",
    "\n",
    "# Output: 'o'\n",
    "print(my_list.pop(1))\n",
    "\n",
    "# Output: ['r', 'b', 'l', 'e', 'm']\n",
    "print(my_list)\n",
    "\n",
    "# Output: 'm'\n",
    "print(my_list.pop())\n",
    "\n",
    "# Output: ['r', 'b', 'l', 'e']\n",
    "print(my_list)\n",
    "\n",
    "my_list.clear()\n",
    "\n",
    "# Output: []\n",
    "print(my_list)\n",
    "\n",
    "my_list = ['p','r','o','b','l','e','m']\n",
    "my_list[2:3] = []\n",
    "my_list\n",
    "my_list[2:5] = []\n",
    "my_list"
   ]
  },
  {
   "cell_type": "code",
   "execution_count": 7,
   "metadata": {},
   "outputs": [
    {
     "name": "stdout",
     "output_type": "stream",
     "text": [
      "1\n",
      "2\n",
      "[0, 1, 3, 4, 6, 8, 8]\n",
      "[8, 8, 6, 4, 3, 1, 0]\n"
     ]
    }
   ],
   "source": [
    "#Sort\n",
    "\n",
    "my_list = [3, 8, 1, 6, 0, 8, 4]\n",
    "\n",
    "# Output: 1\n",
    "print(my_list.index(8))\n",
    "\n",
    "# Output: 2\n",
    "print(my_list.count(8))\n",
    "\n",
    "my_list.sort()\n",
    "\n",
    "# Output: [0, 1, 3, 4, 6, 8, 8]\n",
    "print(my_list)\n",
    "\n",
    "my_list.reverse()\n",
    "\n",
    "# Output: [8, 8, 6, 4, 3, 1, 0]\n",
    "print(my_list)\n"
   ]
  },
  {
   "cell_type": "markdown",
   "metadata": {},
   "source": [
    "## Built-in Functions\n",
    "### Convert, Math, Enumerate, T/F\n"
   ]
  },
  {
   "cell_type": "code",
   "execution_count": null,
   "metadata": {},
   "outputs": [],
   "source": []
  },
  {
   "cell_type": "markdown",
   "metadata": {},
   "source": [
    "## List Comprehension\n",
    "### Regular / More complicated\n"
   ]
  },
  {
   "cell_type": "code",
   "execution_count": 10,
   "metadata": {},
   "outputs": [
    {
     "name": "stdout",
     "output_type": "stream",
     "text": [
      "[1, 2, 4, 8, 16, 32, 64, 128, 256, 512]\n",
      "[64, 128, 256, 512]\n",
      "[1, 3, 5, 7, 9, 11, 13, 15, 17, 19]\n",
      "['Python Language', 'Python Programming', 'C Language', 'C Programming']\n"
     ]
    }
   ],
   "source": [
    "#Easy\n",
    "pow2 = [2 ** x for x in range(10)]\n",
    "# Output: [1, 2, 4, 8, 16, 32, 64, 128, 256, 512]\n",
    "print(pow2)\n",
    "\n",
    "#Without comprehension\n",
    "pow2 = []\n",
    "for x in range(10):\n",
    "    pow2.append(2 ** x)\n",
    "\n",
    "#With if\n",
    "pow2 = [2 ** x for x in range(10) if x > 5]\n",
    "print(pow2)\n",
    "\n",
    "[64, 128, 256, 512]\n",
    "odd = [x for x in range(20) if x % 2 == 1]\n",
    "print(odd)\n",
    "\n",
    "#2 lists\n",
    "classes = [x+y for x in ['Python ','C '] for y in ['Language','Programming']]\n",
    "print(classes)\n"
   ]
  },
  {
   "cell_type": "markdown",
   "metadata": {},
   "source": [
    "## Other Operations\n",
    "### Part of List?, Iterate\n"
   ]
  },
  {
   "cell_type": "code",
   "execution_count": 12,
   "metadata": {},
   "outputs": [
    {
     "name": "stdout",
     "output_type": "stream",
     "text": [
      "True\n",
      "False\n",
      "True\n",
      "I like apple\n",
      "I like banana\n",
      "I like mango\n"
     ]
    }
   ],
   "source": [
    "#Part of list?\n",
    "\n",
    "my_list = ['p','r','o','b','l','e','m']\n",
    "\n",
    "# Output: True\n",
    "print('p' in my_list)\n",
    "\n",
    "# Output: False\n",
    "print('a' in my_list)\n",
    "\n",
    "# Output: True\n",
    "print('c' not in my_list)\n",
    "\n",
    "\n",
    "#Iterate\n",
    "\n",
    "for fruit in ['apple','banana','mango']:\n",
    "    print(\"I like\",fruit)\n"
   ]
  },
  {
   "cell_type": "code",
   "execution_count": null,
   "metadata": {},
   "outputs": [],
   "source": []
  }
 ],
 "metadata": {
  "kernelspec": {
   "display_name": "Python 3",
   "language": "python",
   "name": "python3"
  },
  "language_info": {
   "codemirror_mode": {
    "name": "ipython",
    "version": 3
   },
   "file_extension": ".py",
   "mimetype": "text/x-python",
   "name": "python",
   "nbconvert_exporter": "python",
   "pygments_lexer": "ipython3",
   "version": "3.6.5"
  }
 },
 "nbformat": 4,
 "nbformat_minor": 2
}
